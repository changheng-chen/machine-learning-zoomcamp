{
 "cells": [
  {
   "cell_type": "code",
   "execution_count": 1,
   "id": "0a2e11ef",
   "metadata": {},
   "outputs": [],
   "source": [
    "import pandas as pd\n",
    "import numpy as np"
   ]
  },
  {
   "cell_type": "markdown",
   "id": "1a1f4dfe",
   "metadata": {},
   "source": [
    "### Q1"
   ]
  },
  {
   "cell_type": "code",
   "execution_count": 2,
   "id": "79b89de6",
   "metadata": {},
   "outputs": [],
   "source": [
    "fname = 'laptops.csv'\n",
    "df = pd.read_csv(fname)"
   ]
  },
  {
   "cell_type": "code",
   "execution_count": 3,
   "id": "0509909d",
   "metadata": {},
   "outputs": [],
   "source": [
    "df.columns = df.columns.str.lower().str.replace(' ', '_')"
   ]
  },
  {
   "cell_type": "code",
   "execution_count": 4,
   "id": "afdc12da",
   "metadata": {},
   "outputs": [],
   "source": [
    "df = df[['ram', 'storage', 'screen', 'final_price']]"
   ]
  },
  {
   "cell_type": "code",
   "execution_count": 5,
   "id": "c7e02048",
   "metadata": {},
   "outputs": [
    {
     "name": "stdout",
     "output_type": "stream",
     "text": [
      "<class 'pandas.core.frame.DataFrame'>\n",
      "RangeIndex: 2160 entries, 0 to 2159\n",
      "Data columns (total 4 columns):\n",
      " #   Column       Non-Null Count  Dtype  \n",
      "---  ------       --------------  -----  \n",
      " 0   ram          2160 non-null   int64  \n",
      " 1   storage      2160 non-null   int64  \n",
      " 2   screen       2156 non-null   float64\n",
      " 3   final_price  2160 non-null   float64\n",
      "dtypes: float64(2), int64(2)\n",
      "memory usage: 67.6 KB\n"
     ]
    }
   ],
   "source": [
    "df.info()"
   ]
  },
  {
   "cell_type": "markdown",
   "id": "1b931a6a",
   "metadata": {},
   "source": [
    "### Q2"
   ]
  },
  {
   "cell_type": "code",
   "execution_count": 6,
   "id": "95b11d9f",
   "metadata": {},
   "outputs": [
    {
     "data": {
      "text/plain": [
       "16.0"
      ]
     },
     "execution_count": 6,
     "metadata": {},
     "output_type": "execute_result"
    }
   ],
   "source": [
    "df['ram'].median()"
   ]
  },
  {
   "cell_type": "code",
   "execution_count": 27,
   "id": "8cefca3a",
   "metadata": {},
   "outputs": [],
   "source": [
    "def split_dataset(df, seed):\n",
    "    np.random.seed(seed)\n",
    "\n",
    "    n = len(df)\n",
    "\n",
    "    n_val = int(0.2 * n)\n",
    "    n_test = int(0.2 * n)\n",
    "    n_train = n - (n_val + n_test)\n",
    "\n",
    "    idx = np.arange(n)\n",
    "    np.random.shuffle(idx)\n",
    "\n",
    "    df_shuffled = df.iloc[idx]\n",
    "\n",
    "    df_train = df_shuffled.iloc[:n_train].copy()\n",
    "    df_val = df_shuffled.iloc[n_train:n_train+n_val].copy()\n",
    "    df_test = df_shuffled.iloc[n_train+n_val:].copy()\n",
    "    \n",
    "    return df_train, df_val, df_test"
   ]
  },
  {
   "cell_type": "markdown",
   "id": "2de99834",
   "metadata": {},
   "source": [
    "### Q3"
   ]
  },
  {
   "cell_type": "code",
   "execution_count": 11,
   "id": "f765f2b1",
   "metadata": {},
   "outputs": [],
   "source": [
    "def train_linear_regression(X, y):\n",
    "    ones = np.ones(X.shape[0])\n",
    "    X = np.column_stack([ones, X])\n",
    "\n",
    "    XTX = X.T.dot(X)\n",
    "    XTX_inv = np.linalg.inv(XTX)\n",
    "    w = XTX_inv.dot(X.T).dot(y)\n",
    "    \n",
    "    return w[0], w[1:]"
   ]
  },
  {
   "cell_type": "code",
   "execution_count": 12,
   "id": "d201a982",
   "metadata": {},
   "outputs": [],
   "source": [
    "base = ['ram', 'storage', 'screen']\n",
    "\n",
    "def prepare_X(df):\n",
    "    df_num = df[base]\n",
    "    df_num = df_num.fillna(0)\n",
    "    X = df_num.values\n",
    "    return X"
   ]
  },
  {
   "cell_type": "code",
   "execution_count": 13,
   "id": "65bee4c6",
   "metadata": {},
   "outputs": [],
   "source": [
    "def rmse(y, y_pred):\n",
    "    error = y_pred - y\n",
    "    mse = (error ** 2).mean()\n",
    "    return np.sqrt(mse)"
   ]
  },
  {
   "cell_type": "code",
   "execution_count": 14,
   "id": "2655baa3",
   "metadata": {},
   "outputs": [],
   "source": [
    "# fill in missing values with 0\n",
    "df1 = df.copy()\n",
    "df1['screen'].fillna(0, inplace=True)\n",
    "df1_train, df1_val, df1_test = split_dataset(df1, 42)\n",
    "\n",
    "# fill in missing values with mean from training dataset\n",
    "df2 = df.copy()\n",
    "df2_train, df2_val, df2_test = split_dataset(df2, 42)\n",
    "df2_train['screen'].fillna(df2_train['screen'].mean(), inplace=True)\n",
    "df2_val['screen'].fillna(df2_train['screen'].mean(), inplace=True)\n",
    "df2_test['screen'].fillna(df2_train['screen'].mean(), inplace=True)"
   ]
  },
  {
   "cell_type": "code",
   "execution_count": 17,
   "id": "3c014a0b",
   "metadata": {},
   "outputs": [
    {
     "name": "stdout",
     "output_type": "stream",
     "text": [
      "597.36\n"
     ]
    }
   ],
   "source": [
    "# train model with missing value filled with 0\n",
    "X_train = prepare_X(df1_train)\n",
    "y_train = df1_train['final_price']\n",
    "w_0, w = train_linear_regression(X_train, y_train)\n",
    "\n",
    "X_val = prepare_X(df1_val)\n",
    "y_val = df1_val['final_price']\n",
    "y_pred = w_0 + X_val.dot(w)\n",
    "score = rmse(y_val, y_pred)\n",
    "print(round(score, 2))"
   ]
  },
  {
   "cell_type": "code",
   "execution_count": 18,
   "id": "40206882",
   "metadata": {},
   "outputs": [
    {
     "name": "stdout",
     "output_type": "stream",
     "text": [
      "600.27\n"
     ]
    }
   ],
   "source": [
    "# train model with missing value filled with mean of training dataset\n",
    "X_train = prepare_X(df2_train)\n",
    "y_train = df2_train['final_price']\n",
    "w_0, w = train_linear_regression(X_train, y_train)\n",
    "\n",
    "X_val = prepare_X(df2_val)\n",
    "y_val = df2_val['final_price']\n",
    "y_pred = w_0 + X_val.dot(w)\n",
    "\n",
    "score = rmse(y_val, y_pred)\n",
    "print(round(score, 2))"
   ]
  },
  {
   "cell_type": "markdown",
   "id": "678af3e4",
   "metadata": {},
   "source": [
    "### Q4"
   ]
  },
  {
   "cell_type": "code",
   "execution_count": 21,
   "id": "02c4e629",
   "metadata": {},
   "outputs": [],
   "source": [
    "def train_linear_regression_reg(X, y, r=0.0):\n",
    "    ones = np.ones(X.shape[0])\n",
    "    X = np.column_stack([ones, X])\n",
    "\n",
    "    XTX = X.T.dot(X)\n",
    "    reg = r * np.eye(XTX.shape[0])\n",
    "    XTX = XTX + reg\n",
    "\n",
    "    XTX_inv = np.linalg.inv(XTX)\n",
    "    w = XTX_inv.dot(X.T).dot(y)\n",
    "    \n",
    "    return w[0], w[1:]"
   ]
  },
  {
   "cell_type": "code",
   "execution_count": 23,
   "id": "55d1634c",
   "metadata": {},
   "outputs": [
    {
     "name": "stdout",
     "output_type": "stream",
     "text": [
      "0 :  597.3635593619622\n",
      "0.01 :  597.3616819856012\n",
      "0.1 :  597.3451592963617\n",
      "1 :  597.2121215589519\n",
      "5 :  597.0111186297033\n",
      "10 :  597.058768066111\n",
      "100 :  597.903264060304\n"
     ]
    }
   ],
   "source": [
    "X_train = prepare_X(df1_train)\n",
    "y_train = df1_train['final_price']\n",
    "\n",
    "X_val = prepare_X(df1_val)\n",
    "y_val = df1_val['final_price']\n",
    "\n",
    "for r in [0, 0.01, 0.1, 1, 5, 10, 100]:\n",
    "    w_0, w = train_linear_regression_reg(X_train, y_train, r=r)\n",
    "    y_pred = w_0 + X_val.dot(w)\n",
    "    \n",
    "    print(r, \": \", rmse(y_val, y_pred))"
   ]
  },
  {
   "cell_type": "markdown",
   "id": "d5e2b0d7",
   "metadata": {},
   "source": [
    "### Q5"
   ]
  },
  {
   "cell_type": "code",
   "execution_count": 26,
   "id": "51d08b47",
   "metadata": {},
   "outputs": [
    {
     "name": "stdout",
     "output_type": "stream",
     "text": [
      "Standard deviation:  29.176\n"
     ]
    }
   ],
   "source": [
    "seeds = [0, 1, 2, 3, 4, 5, 6, 7, 8, 9]\n",
    "\n",
    "rmses = []\n",
    "for seed in seeds:\n",
    "    df_train, df_val, df_test = split_dataset(df1, seed)\n",
    "    \n",
    "    X_train = prepare_X(df_train)\n",
    "    y_train = df_train['final_price']\n",
    "\n",
    "    X_val = prepare_X(df_val)\n",
    "    y_val = df_val['final_price']\n",
    "    \n",
    "    w_0, w = train_linear_regression(X_train, y_train)\n",
    "    y_pred = w_0 + X_val.dot(w)\n",
    "    rmses.append(rmse(y_val, y_pred))\n",
    "\n",
    "print('Standard deviation: ', round(np.std(rmses), 3))"
   ]
  },
  {
   "cell_type": "markdown",
   "id": "93b5dd6b",
   "metadata": {},
   "source": [
    "### Q6"
   ]
  },
  {
   "cell_type": "code",
   "execution_count": 30,
   "id": "f347175b",
   "metadata": {},
   "outputs": [
    {
     "name": "stdout",
     "output_type": "stream",
     "text": [
      "RMSE: 608.61\n"
     ]
    }
   ],
   "source": [
    "df_train, df_val, df_test = split_dataset(df1, seed=9)\n",
    "\n",
    "df_train = pd.concat([df_train, df_val])\n",
    "X_train = prepare_X(df_train)\n",
    "y_train = df_train['final_price']\n",
    "\n",
    "X_test = prepare_X(df_test)\n",
    "y_test = df_test['final_price']\n",
    "    \n",
    "w_0, w = train_linear_regression_reg(X_train, y_train, r=0.01)\n",
    "y_pred = w_0 + X_test.dot(w)\n",
    "\n",
    "print('RMSE:', np.round(rmse(y_test, y_pred), 2))"
   ]
  }
 ],
 "metadata": {
  "kernelspec": {
   "display_name": "Python 3",
   "language": "python",
   "name": "python3"
  },
  "language_info": {
   "codemirror_mode": {
    "name": "ipython",
    "version": 3
   },
   "file_extension": ".py",
   "mimetype": "text/x-python",
   "name": "python",
   "nbconvert_exporter": "python",
   "pygments_lexer": "ipython3",
   "version": "3.8.8"
  }
 },
 "nbformat": 4,
 "nbformat_minor": 5
}
