{
 "cells": [
  {
   "cell_type": "code",
   "execution_count": 53,
   "id": "fd4a4b4d",
   "metadata": {},
   "outputs": [],
   "source": [
    "import pandas as pd\n",
    "import warnings\n",
    "warnings.filterwarnings('ignore')"
   ]
  },
  {
   "cell_type": "code",
   "execution_count": 41,
   "id": "a3bef4fe",
   "metadata": {},
   "outputs": [],
   "source": [
    "# read in data\n",
    "fname = 'bank/bank-full.csv'\n",
    "\n",
    "columns = ['age', 'job', 'marital', 'education', 'balance', 'housing', 'contact', 'day', 'month', 'duration', 'campaign', 'pdays', 'previous', 'poutcome', 'y']\n",
    "df = pd.read_csv(fname, delimiter=';')\n",
    "df = df[columns]"
   ]
  },
  {
   "cell_type": "code",
   "execution_count": 42,
   "id": "3616ba10",
   "metadata": {},
   "outputs": [],
   "source": [
    "from sklearn.model_selection import train_test_split\n",
    "\n",
    "# Split the data\n",
    "df_full_train, df_test = train_test_split(df, test_size=0.2, random_state=1)\n",
    "df_train, df_val = train_test_split(df_full_train, test_size=0.25, random_state=1)\n",
    "\n",
    "df_train = df_train.reset_index(drop=True)\n",
    "df_val = df_val.reset_index(drop=True)\n",
    "df_test = df_test.reset_index(drop=True)\n",
    "\n",
    "y_train = df_train['y']\n",
    "y_val = df_val['y']\n",
    "y_test = df_test['y']\n",
    "\n",
    "del df_train['y']\n",
    "del df_val['y']\n",
    "del df_test['y']"
   ]
  },
  {
   "cell_type": "markdown",
   "id": "c1cc85a1",
   "metadata": {},
   "source": [
    "### Q1"
   ]
  },
  {
   "cell_type": "code",
   "execution_count": 43,
   "id": "0967cdf0",
   "metadata": {},
   "outputs": [
    {
     "name": "stdout",
     "output_type": "stream",
     "text": [
      "    Feature       AUC\n",
      "0       age  0.512186\n",
      "2       day  0.525958\n",
      "4  campaign  0.571454\n",
      "1   balance  0.588831\n",
      "5     pdays  0.590128\n",
      "3  duration  0.814700\n"
     ]
    }
   ],
   "source": [
    "from sklearn.metrics import roc_auc_score\n",
    "\n",
    "numerical = ['age', 'balance', 'day', 'duration', 'campaign', 'pdays']\n",
    "categorical = ['job', 'marital', 'education', 'housing', 'contact', 'month', 'poutcome']\n",
    "\n",
    "\n",
    "# Loop through each numerical feature and calculate AUC values\n",
    "auc_scores = {}\n",
    "for feature in numerical:\n",
    "    score = df_train[feature]  \n",
    "    auc = roc_auc_score(y_train, score)  \n",
    "    if auc<0.5:\n",
    "        score = -df_train[feature]\n",
    "        auc = roc_auc_score(y_train, score)  \n",
    "    auc_scores[feature] = auc  \n",
    "\n",
    "# Convert the results to a dataframe \n",
    "auc_df = pd.DataFrame(auc_scores.items(), columns=['Feature', 'AUC'])\n",
    "auc_df.sort_values(by='AUC', inplace=True)\n",
    "\n",
    "# Display the AUC values\n",
    "print(auc_df)"
   ]
  },
  {
   "cell_type": "markdown",
   "id": "9a381449",
   "metadata": {},
   "source": [
    "### Q2"
   ]
  },
  {
   "cell_type": "code",
   "execution_count": 44,
   "id": "f90615aa",
   "metadata": {},
   "outputs": [],
   "source": [
    "from sklearn.linear_model import LogisticRegression\n",
    "from sklearn.feature_extraction import DictVectorizer\n",
    "\n",
    "def one_hot_encode(X):\n",
    "    \"\"\"\n",
    "    One hot encode features with DictVectorizer\n",
    "    \"\"\"\n",
    "    # Intantiate a vectorizer\n",
    "    vectorizer = DictVectorizer(sparse=False)\n",
    "    \n",
    "    # Convert the dataframe into a list of dictionaries (row-wise)\n",
    "    X_dict = X.to_dict(orient='records')\n",
    "\n",
    "    # Fit and transform the data to apply one-hot encoding\n",
    "    X_encoded = vectorizer.fit_transform(X_dict)\n",
    "\n",
    "    return X_encoded"
   ]
  },
  {
   "cell_type": "code",
   "execution_count": 45,
   "id": "5fc26045",
   "metadata": {},
   "outputs": [
    {
     "data": {
      "text/plain": [
       "LogisticRegression(max_iter=1000, solver='liblinear')"
      ]
     },
     "execution_count": 45,
     "metadata": {},
     "output_type": "execute_result"
    }
   ],
   "source": [
    "# Train a logistic regression model\n",
    "X_train_encoded = one_hot_encode(df_train)\n",
    "X_val_encoded = one_hot_encode(df_val)\n",
    "\n",
    "y_train = y_train.map({'yes': 1, 'no': 0})\n",
    "y_val = y_val.map({'yes': 1, 'no': 0})\n",
    "\n",
    "model = LogisticRegression(solver='liblinear', C=1.0, max_iter=1000)\n",
    "model.fit(X_train_encoded, y_train)"
   ]
  },
  {
   "cell_type": "code",
   "execution_count": 48,
   "id": "718c4e7a",
   "metadata": {},
   "outputs": [
    {
     "name": "stdout",
     "output_type": "stream",
     "text": [
      "AUC: 0.66\n"
     ]
    }
   ],
   "source": [
    "# Make predictions\n",
    "y_val_pred = model.predict(X_val_encoded)\n",
    "\n",
    "# Compute AUC\n",
    "auc = roc_auc_score(y_val.values, y_val_pred)\n",
    "print(f'AUC: {auc:.2f}')"
   ]
  },
  {
   "cell_type": "markdown",
   "id": "889433c8",
   "metadata": {},
   "source": [
    "### Q3"
   ]
  },
  {
   "cell_type": "code",
   "execution_count": 36,
   "id": "62b3a300",
   "metadata": {},
   "outputs": [
    {
     "name": "stdout",
     "output_type": "stream",
     "text": [
      "     Threshold  TPR (Recall)      FPR   Precision  Accuracy        F1\n",
      "0         0.00      1.000000  1.000000   0.121433  0.121433  0.216568\n",
      "1         0.01      0.996357  0.878902   0.135463  0.227383  0.238500\n",
      "2         0.02      0.995446  0.728097   0.158936  0.359766  0.274107\n",
      "3         0.03      0.989982  0.596173   0.186674  0.475006  0.314116\n",
      "4         0.04      0.972678  0.478726   0.219257  0.576089  0.357849\n",
      "..         ...           ...       ...        ...       ...       ...\n",
      "96        0.96      0.027322  0.002140   0.638298  0.880004  0.052402\n",
      "97        0.97      0.022769  0.001888   0.625000  0.879673  0.043937\n",
      "98        0.98      0.019126  0.001259   0.677419  0.879783  0.037201\n",
      "99        0.99      0.009107  0.000629   0.666667  0.879120  0.017969\n",
      "100       1.00      0.000000  0.000000   0.000000  0.878567  0.000000\n",
      "\n",
      "[101 rows x 6 columns]\n"
     ]
    }
   ],
   "source": [
    "import numpy as np\n",
    "from sklearn.metrics import accuracy_score, confusion_matrix\n",
    "\n",
    "# Predict probabilities on the validation set\n",
    "y_val_pred_proba = model.predict_proba(X_val_encoded)[:, 1] \n",
    "\n",
    "# Initialize a list to store evaluation results for each threshold\n",
    "thresholds = np.arange(0.0, 1.01, 0.01)  \n",
    "evaluation_results = []\n",
    "\n",
    "for threshold in thresholds:\n",
    "    y_pred_binary = (y_val_pred_proba >= threshold).astype(int)\n",
    "    \n",
    "    tn, fp, fn, tp = confusion_matrix(y_val.values, y_pred_binary).ravel()\n",
    "    \n",
    "    tpr = tp / (tp + fn) if (tp + fn) > 0 else 0  # True positive rate (Recall)\n",
    "    fpr = fp / (fp + tn) if (fp + tn) > 0 else 0  # False positive rate\n",
    "    precision = tp / (tp + fp) if (tp + fp) > 0 else 0  # Precision\n",
    "    accuracy = accuracy_score(y_val.values, y_pred_binary)  # Accuracy\n",
    "    F1 = 2 * tpr * precision/ (tpr + precision) if (tpr + precision) > 0 else 0\n",
    "    \n",
    "    evaluation_results.append({\n",
    "        'Threshold': threshold,\n",
    "        'TPR (Recall)': tpr,\n",
    "        'FPR ': fpr,\n",
    "        'Precision': precision,\n",
    "        'Accuracy': accuracy,\n",
    "        'F1': F1\n",
    "    })\n",
    "\n",
    "# Convert results to a DataFrame for easy visualization\n",
    "evaluation_df = pd.DataFrame(evaluation_results)\n",
    "\n",
    "# Display the evaluation results\n",
    "print(evaluation_df)"
   ]
  },
  {
   "cell_type": "code",
   "execution_count": 40,
   "id": "d6200285",
   "metadata": {},
   "outputs": [
    {
     "data": {
      "image/png": "[encoded data removed]",
      "text/plain": [
       "<Figure size 720x432 with 1 Axes>"
      ]
     },
     "metadata": {
      "needs_background": "light"
     },
     "output_type": "display_data"
    },
    {
     "name": "stdout",
     "output_type": "stream",
     "text": [
      "Threshold at intersection of Recall and Precision: 0.260\n"
     ]
    }
   ],
   "source": [
    "import matplotlib.pyplot as plt\n",
    "\n",
    "# Plot Recall and Accuracy\n",
    "plt.figure(figsize=(10, 6))\n",
    "plt.plot(evaluation_df['Threshold'], evaluation_df['TPR (Recall)'], label='Recall', color='blue')\n",
    "plt.plot(evaluation_df['Threshold'], evaluation_df['Precision'], label='Precision', color='orange')\n",
    "plt.xlabel('Threshold')\n",
    "plt.ylabel('Score')\n",
    "plt.title('Recall and Precision vs. Threshold')\n",
    "plt.axhline(0.5, color='gray', linestyle='--', linewidth=0.5)  # Optional horizontal line at 0.5 for reference\n",
    "plt.legend()\n",
    "plt.grid()\n",
    "plt.show()\n",
    "\n",
    "# Find the threshold where Recall and Accuracy intersect\n",
    "intersection_index = np.argwhere(np.isclose(evaluation_df['TPR (Recall)'].values.tolist(), evaluation_df['Precision'].values.tolist(), atol=1e-2)).flatten()\n",
    "if intersection_index.size > 0:\n",
    "    intersection_threshold = evaluation_df.loc[intersection_index, 'Threshold'].values[0]\n",
    "    print(f'Threshold at intersection of Recall and Precision: {intersection_threshold:.3f}')\n",
    "else:\n",
    "    print('No intersection found within the defined threshold range.')"
   ]
  },
  {
   "cell_type": "markdown",
   "id": "94ec0897",
   "metadata": {},
   "source": [
    "### Q4"
   ]
  },
  {
   "cell_type": "code",
   "execution_count": 38,
   "id": "65df85ce",
   "metadata": {},
   "outputs": [
    {
     "name": "stdout",
     "output_type": "stream",
     "text": [
      "Threshold at F1 maximum: 0.22\n"
     ]
    }
   ],
   "source": [
    "# Find the threshold where F1 is maximum\n",
    "max_index = evaluation_df['F1'].idxmax()\n",
    "\n",
    "# Use the index to find the corresponding value in column 'B'\n",
    "max_threshold = evaluation_df.loc[max_index, 'Threshold']\n",
    "\n",
    "print(f'Threshold at F1 maximum: {max_threshold:.2f}')"
   ]
  },
  {
   "cell_type": "markdown",
   "id": "8e8433f9",
   "metadata": {},
   "source": [
    "### Q5"
   ]
  },
  {
   "cell_type": "code",
   "execution_count": 49,
   "id": "d1d7de09",
   "metadata": {},
   "outputs": [],
   "source": [
    "from sklearn.model_selection import KFold\n",
    "from tqdm.auto import tqdm"
   ]
  },
  {
   "cell_type": "code",
   "execution_count": 50,
   "id": "9cfd544a",
   "metadata": {},
   "outputs": [],
   "source": [
    "def train(df_train, y_train, C=1.0):\n",
    "    dicts = df_train[categorical + numerical].to_dict(orient='records')\n",
    "\n",
    "    dv = DictVectorizer(sparse=False)\n",
    "    X_train = dv.fit_transform(dicts)\n",
    "\n",
    "    model = LogisticRegression(C=C, max_iter=1000)\n",
    "    model.fit(X_train, y_train)\n",
    "    \n",
    "    return dv, model"
   ]
  },
  {
   "cell_type": "code",
   "execution_count": 51,
   "id": "153b0118",
   "metadata": {},
   "outputs": [],
   "source": [
    "def predict(df, dv, model):\n",
    "    dicts = df[categorical + numerical].to_dict(orient='records')\n",
    "\n",
    "    X = dv.transform(dicts)\n",
    "    y_pred = model.predict_proba(X)[:, 1]\n",
    "\n",
    "    return y_pred"
   ]
  },
  {
   "cell_type": "code",
   "execution_count": 54,
   "id": "588fd8c0",
   "metadata": {},
   "outputs": [
    {
     "name": "stdout",
     "output_type": "stream",
     "text": [
      "C=1.0 0.903 +- 0.006\n"
     ]
    }
   ],
   "source": [
    "n_splits = 5\n",
    "C = 1.0\n",
    "\n",
    "kfold = KFold(n_splits=n_splits, shuffle=True, random_state=1)\n",
    "\n",
    "scores = []\n",
    "\n",
    "for train_idx, val_idx in kfold.split(df_full_train):\n",
    "    df_train = df_full_train.iloc[train_idx]\n",
    "    df_val = df_full_train.iloc[val_idx]\n",
    "\n",
    "    y_train = df_train.y.values\n",
    "    y_val = df_val.y.values\n",
    "\n",
    "    dv, model = train(df_train, y_train, C=C)\n",
    "    y_pred = predict(df_val, dv, model)\n",
    "\n",
    "    auc = roc_auc_score(y_val, y_pred)\n",
    "    scores.append(auc)\n",
    "\n",
    "print('C=%s %.3f +- %.3f' % (C, np.mean(scores), np.std(scores)))"
   ]
  },
  {
   "cell_type": "markdown",
   "id": "af2b7689",
   "metadata": {},
   "source": [
    "### Q6"
   ]
  },
  {
   "cell_type": "code",
   "execution_count": 56,
   "id": "a672c43d",
   "metadata": {},
   "outputs": [
    {
     "data": {
      "application/vnd.jupyter.widget-view+json": {
       "model_id": "fec375b320a84739961a6eaa742a51f2",
       "version_major": 2,
       "version_minor": 0
      },
      "text/plain": [
       "  0%|          | 0/3 [00:00<?, ?it/s]"
      ]
     },
     "metadata": {},
     "output_type": "display_data"
    },
    {
     "name": "stdout",
     "output_type": "stream",
     "text": [
      "C=1e-06 0.824 +- 0.009\n",
      "C=0.001 0.882 +- 0.013\n",
      "C=1 0.903 +- 0.006\n"
     ]
    }
   ],
   "source": [
    "n_splits = 5\n",
    "\n",
    "for C in tqdm([0.000001, 0.001, 1]):\n",
    "    kfold = KFold(n_splits=n_splits, shuffle=True, random_state=1)\n",
    "\n",
    "    scores = []\n",
    "\n",
    "    for train_idx, val_idx in kfold.split(df_full_train):\n",
    "        df_train = df_full_train.iloc[train_idx]\n",
    "        df_val = df_full_train.iloc[val_idx]\n",
    "\n",
    "        y_train = df_train.y.values\n",
    "        y_val = df_val.y.values\n",
    "\n",
    "        dv, model = train(df_train, y_train, C=C)\n",
    "        y_pred = predict(df_val, dv, model)\n",
    "\n",
    "        auc = roc_auc_score(y_val, y_pred)\n",
    "        scores.append(auc)\n",
    "\n",
    "    print('C=%s %.3f +- %.3f' % (C, np.mean(scores), np.std(scores)))"
   ]
  }
 ],
 "metadata": {
  "kernelspec": {
   "display_name": "Python 3",
   "language": "python",
   "name": "python3"
  },
  "language_info": {
   "codemirror_mode": {
    "name": "ipython",
    "version": 3
   },
   "file_extension": ".py",
   "mimetype": "text/x-python",
   "name": "python",
   "nbconvert_exporter": "python",
   "pygments_lexer": "ipython3",
   "version": "3.8.8"
  }
 },
 "nbformat": 4,
 "nbformat_minor": 5
}
