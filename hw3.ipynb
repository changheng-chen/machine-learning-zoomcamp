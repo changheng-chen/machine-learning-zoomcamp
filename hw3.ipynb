{
 "cells": [
  {
   "cell_type": "code",
   "execution_count": null,
   "id": "9c914a6b",
   "metadata": {},
   "outputs": [],
   "source": [
    "import pandas as pd"
   ]
  },
  {
   "cell_type": "code",
   "execution_count": 44,
   "id": "265acf31",
   "metadata": {},
   "outputs": [],
   "source": [
    "# read in data\n",
    "fname = 'bank/bank-full.csv'\n",
    "\n",
    "columns = ['age', 'job', 'marital', 'education', 'balance', 'housing', 'contact', 'day', 'month', 'duration', 'campaign', 'pdays', 'previous', 'poutcome', 'y']\n",
    "features = list(set(columns) - set(['y']))\n",
    "df = pd.read_csv(fname, delimiter=';')\n",
    "df = df[columns]"
   ]
  },
  {
   "cell_type": "markdown",
   "id": "8ddc1da8",
   "metadata": {},
   "source": [
    "### Q1"
   ]
  },
  {
   "cell_type": "code",
   "execution_count": 45,
   "id": "9a97c9b9",
   "metadata": {},
   "outputs": [
    {
     "data": {
      "text/plain": [
       "0    secondary\n",
       "dtype: object"
      ]
     },
     "execution_count": 45,
     "metadata": {},
     "output_type": "execute_result"
    }
   ],
   "source": [
    "df['education'].mode()"
   ]
  },
  {
   "cell_type": "markdown",
   "id": "3b11849e",
   "metadata": {},
   "source": [
    "### Q2"
   ]
  },
  {
   "cell_type": "code",
   "execution_count": 46,
   "id": "32b9a27c",
   "metadata": {},
   "outputs": [],
   "source": [
    "# compute correlation matrix\n",
    "df_features = df[features]\n",
    "correlation_matrix = df_features.corr()"
   ]
  },
  {
   "cell_type": "code",
   "execution_count": 47,
   "id": "9c796b21",
   "metadata": {},
   "outputs": [
    {
     "data": {
      "text/html": [
       "<div>\n",
       "<style scoped>\n",
       "    .dataframe tbody tr th:only-of-type {\n",
       "        vertical-align: middle;\n",
       "    }\n",
       "\n",
       "    .dataframe tbody tr th {\n",
       "        vertical-align: top;\n",
       "    }\n",
       "\n",
       "    .dataframe thead th {\n",
       "        text-align: right;\n",
       "    }\n",
       "</style>\n",
       "<table border=\"1\" class=\"dataframe\">\n",
       "  <thead>\n",
       "    <tr style=\"text-align: right;\">\n",
       "      <th></th>\n",
       "      <th>campaign</th>\n",
       "      <th>day</th>\n",
       "      <th>duration</th>\n",
       "      <th>pdays</th>\n",
       "      <th>balance</th>\n",
       "      <th>previous</th>\n",
       "      <th>age</th>\n",
       "    </tr>\n",
       "  </thead>\n",
       "  <tbody>\n",
       "    <tr>\n",
       "      <th>campaign</th>\n",
       "      <td>1.000000</td>\n",
       "      <td>0.162490</td>\n",
       "      <td>-0.084570</td>\n",
       "      <td>-0.088628</td>\n",
       "      <td>-0.014578</td>\n",
       "      <td>-0.032855</td>\n",
       "      <td>0.004760</td>\n",
       "    </tr>\n",
       "    <tr>\n",
       "      <th>day</th>\n",
       "      <td>0.162490</td>\n",
       "      <td>1.000000</td>\n",
       "      <td>-0.030206</td>\n",
       "      <td>-0.093044</td>\n",
       "      <td>0.004503</td>\n",
       "      <td>-0.051710</td>\n",
       "      <td>-0.009120</td>\n",
       "    </tr>\n",
       "    <tr>\n",
       "      <th>duration</th>\n",
       "      <td>-0.084570</td>\n",
       "      <td>-0.030206</td>\n",
       "      <td>1.000000</td>\n",
       "      <td>-0.001565</td>\n",
       "      <td>0.021560</td>\n",
       "      <td>0.001203</td>\n",
       "      <td>-0.004648</td>\n",
       "    </tr>\n",
       "    <tr>\n",
       "      <th>pdays</th>\n",
       "      <td>-0.088628</td>\n",
       "      <td>-0.093044</td>\n",
       "      <td>-0.001565</td>\n",
       "      <td>1.000000</td>\n",
       "      <td>0.003435</td>\n",
       "      <td>0.454820</td>\n",
       "      <td>-0.023758</td>\n",
       "    </tr>\n",
       "    <tr>\n",
       "      <th>balance</th>\n",
       "      <td>-0.014578</td>\n",
       "      <td>0.004503</td>\n",
       "      <td>0.021560</td>\n",
       "      <td>0.003435</td>\n",
       "      <td>1.000000</td>\n",
       "      <td>0.016674</td>\n",
       "      <td>0.097783</td>\n",
       "    </tr>\n",
       "    <tr>\n",
       "      <th>previous</th>\n",
       "      <td>-0.032855</td>\n",
       "      <td>-0.051710</td>\n",
       "      <td>0.001203</td>\n",
       "      <td>0.454820</td>\n",
       "      <td>0.016674</td>\n",
       "      <td>1.000000</td>\n",
       "      <td>0.001288</td>\n",
       "    </tr>\n",
       "    <tr>\n",
       "      <th>age</th>\n",
       "      <td>0.004760</td>\n",
       "      <td>-0.009120</td>\n",
       "      <td>-0.004648</td>\n",
       "      <td>-0.023758</td>\n",
       "      <td>0.097783</td>\n",
       "      <td>0.001288</td>\n",
       "      <td>1.000000</td>\n",
       "    </tr>\n",
       "  </tbody>\n",
       "</table>\n",
       "</div>"
      ],
      "text/plain": [
       "          campaign       day  duration     pdays   balance  previous       age\n",
       "campaign  1.000000  0.162490 -0.084570 -0.088628 -0.014578 -0.032855  0.004760\n",
       "day       0.162490  1.000000 -0.030206 -0.093044  0.004503 -0.051710 -0.009120\n",
       "duration -0.084570 -0.030206  1.000000 -0.001565  0.021560  0.001203 -0.004648\n",
       "pdays    -0.088628 -0.093044 -0.001565  1.000000  0.003435  0.454820 -0.023758\n",
       "balance  -0.014578  0.004503  0.021560  0.003435  1.000000  0.016674  0.097783\n",
       "previous -0.032855 -0.051710  0.001203  0.454820  0.016674  1.000000  0.001288\n",
       "age       0.004760 -0.009120 -0.004648 -0.023758  0.097783  0.001288  1.000000"
      ]
     },
     "execution_count": 47,
     "metadata": {},
     "output_type": "execute_result"
    }
   ],
   "source": [
    "correlation_matrix"
   ]
  },
  {
   "cell_type": "code",
   "execution_count": 48,
   "id": "2340b324",
   "metadata": {},
   "outputs": [
    {
     "name": "stdout",
     "output_type": "stream",
     "text": [
      "Largest correlation: 0.4548196354805043 between columns ('pdays', 'previous')\n",
      "Smallest correlation: -0.09304407377294048 between columns ('day', 'pdays')\n"
     ]
    }
   ],
   "source": [
    "# Find the largest and smallest values\n",
    "flattened_corr = correlation_matrix.unstack()\n",
    "filtered_corr = flattened_corr[flattened_corr != 1]\n",
    "\n",
    "max_corr_value = filtered_corr.max()\n",
    "min_corr_value = filtered_corr.min()\n",
    "\n",
    "max_corr_columns = filtered_corr.idxmax()\n",
    "min_corr_columns = filtered_corr.idxmin()\n",
    "\n",
    "print(f\"Largest correlation: {max_corr_value} between columns {max_corr_columns}\")\n",
    "print(f\"Smallest correlation: {min_corr_value} between columns {min_corr_columns}\")"
   ]
  },
  {
   "cell_type": "code",
   "execution_count": 49,
   "id": "c34904b3",
   "metadata": {},
   "outputs": [],
   "source": [
    "# Target encoding\n",
    "df['y'] = df['y'].replace({'yes': 1, 'no': 0})"
   ]
  },
  {
   "cell_type": "code",
   "execution_count": 50,
   "id": "f9275499",
   "metadata": {},
   "outputs": [],
   "source": [
    "from sklearn.model_selection import train_test_split\n",
    "\n",
    "# Split the data\n",
    "X_train, X_temp, y_train, y_temp = train_test_split(df_features, df['y'], test_size=0.4, random_state=42)\n",
    "X_val, X_test, y_val, y_test = train_test_split(X_temp, y_temp, test_size=0.5, random_state=42)"
   ]
  },
  {
   "cell_type": "markdown",
   "id": "3e722e6d",
   "metadata": {},
   "source": [
    "### Q3"
   ]
  },
  {
   "cell_type": "code",
   "execution_count": 51,
   "id": "92048593",
   "metadata": {},
   "outputs": [
    {
     "data": {
      "text/plain": [
       "array(['unknown', 'other', 'failure', 'success'], dtype=object)"
      ]
     },
     "execution_count": 51,
     "metadata": {},
     "output_type": "execute_result"
    }
   ],
   "source": [
    "X_train['poutcome'].unique()"
   ]
  },
  {
   "cell_type": "code",
   "execution_count": 52,
   "id": "d645f14e",
   "metadata": {},
   "outputs": [
    {
     "name": "stdout",
     "output_type": "stream",
     "text": [
      "     Feature  Mutual Information Score\n",
      "3   poutcome                      0.03\n",
      "0    contact                      0.01\n",
      "2    housing                      0.01\n",
      "1  education                      0.00\n"
     ]
    }
   ],
   "source": [
    "from sklearn.metrics import mutual_info_score\n",
    "\n",
    "categoricals = ['contact', 'education', 'housing', 'poutcome']\n",
    "scores = {}\n",
    "for column in categoricals:\n",
    "    score = mutual_info_score(df[column], df['y'])\n",
    "    scores[column] = round(score, 2)\n",
    "scores_df = pd.DataFrame(list(scores.items()), columns=['Feature', 'Mutual Information Score'])\n",
    "\n",
    "# Display the mutual information scores\n",
    "print(scores_df.sort_values(by='Mutual Information Score', ascending=False))\n"
   ]
  },
  {
   "cell_type": "markdown",
   "id": "a3c33f27",
   "metadata": {},
   "source": [
    "### Q4"
   ]
  },
  {
   "cell_type": "code",
   "execution_count": 55,
   "id": "8c9a7936",
   "metadata": {},
   "outputs": [
    {
     "name": "stdout",
     "output_type": "stream",
     "text": [
      "Accuracy: 0.90\n"
     ]
    }
   ],
   "source": [
    "from sklearn.linear_model import LogisticRegression\n",
    "from sklearn.metrics import accuracy_score\n",
    "\n",
    "# One-hot encode categorical columns\n",
    "categoricals = ['job', 'marital', 'month', 'contact', 'education', 'housing', 'poutcome']\n",
    "df_encoded = pd.get_dummies(df, columns=categoricals, drop_first=True)\n",
    "X = df_encoded.drop('y', axis=1)  \n",
    "y = df_encoded['y']  \n",
    "\n",
    "# Split the data into training, testing and valuation sets\n",
    "X_train, X_temp, y_train, y_temp = train_test_split(X, y, test_size=0.4, random_state=42)\n",
    "X_val, X_test, y_val, y_test = train_test_split(X_temp, y_temp, test_size=0.5, random_state=42)\n",
    "\n",
    "# Train a logistic regression model\n",
    "model = LogisticRegression(solver='liblinear', C=1.0, max_iter=1000, random_state=42)\n",
    "model.fit(X_train, y_train)\n",
    "\n",
    "# Make predictions\n",
    "y_pred = model.predict(X_val)\n",
    "\n",
    "# Calculate and print accuracy\n",
    "accuracy = accuracy_score(y_val, y_pred)\n",
    "print(f\"Accuracy: {accuracy:.2f}\")"
   ]
  },
  {
   "cell_type": "markdown",
   "id": "b56eadb8",
   "metadata": {},
   "source": [
    "### Q5"
   ]
  },
  {
   "cell_type": "code",
   "execution_count": 67,
   "id": "ac971050",
   "metadata": {},
   "outputs": [
    {
     "name": "stdout",
     "output_type": "stream",
     "text": [
      "      Feature  Accuracy Difference\n",
      "0       month             0.001880\n",
      "2     housing             0.001106\n",
      "7       pdays             0.000885\n",
      "5   education             0.000332\n",
      "11   previous             0.000332\n",
      "12        age             0.000332\n",
      "8     contact             0.000221\n",
      "9     balance             0.000221\n",
      "4         day             0.000111\n",
      "10    marital             0.000000\n",
      "1    campaign            -0.000111\n",
      "13        job            -0.000995\n",
      "6    duration            -0.006525\n",
      "3    poutcome            -0.008516\n"
     ]
    }
   ],
   "source": [
    "# find least important feature(s)\n",
    "accuracies = {}\n",
    "for feature in features:\n",
    "    X_train_filtered = X_train.loc[:, ~X_train.columns.str.startswith(feature)]\n",
    "    X_val_filtered = X_val.loc[:, ~X_val.columns.str.startswith(feature)]\n",
    "    X_test_filtered = X_test.loc[:, ~X_test.columns.str.startswith(feature)]\n",
    "\n",
    "    model.fit(X_train_filtered, y_train)\n",
    "    y_pred = model.predict(X_val_filtered)\n",
    "    new_accuracy = accuracy_score(y_val, y_pred)\n",
    "    \n",
    "    accuracies[feature] = new_accuracy - accuracy\n",
    "\n",
    "accuracies_df = pd.DataFrame(list(accuracies.items()), columns=['Feature', 'Accuracy Difference'])\n",
    "print(accuracies_df.sort_values(by='Accuracy Difference', ascending=False))"
   ]
  },
  {
   "cell_type": "markdown",
   "id": "69278aee",
   "metadata": {},
   "source": [
    "### Q6"
   ]
  },
  {
   "cell_type": "code",
   "execution_count": 69,
   "id": "68ff25eb",
   "metadata": {},
   "outputs": [
    {
     "name": "stdout",
     "output_type": "stream",
     "text": [
      "C=0.01: 0.898\n",
      "C=0.1: 0.9\n",
      "C=1: 0.9\n",
      "C=10: 0.901\n",
      "C=100: 0.9\n"
     ]
    }
   ],
   "source": [
    "# One-hot encode categorical columns\n",
    "categoricals = ['job', 'marital', 'month', 'contact', 'education', 'housing', 'poutcome']\n",
    "df_encoded = pd.get_dummies(df, columns=categoricals, drop_first=True)\n",
    "X = df_encoded.drop('y', axis=1)  \n",
    "y = df_encoded['y']  \n",
    "\n",
    "# Split the data into training, testing and valuation sets\n",
    "X_train, X_temp, y_train, y_temp = train_test_split(X, y, test_size=0.4, random_state=42)\n",
    "X_val, X_test, y_val, y_test = train_test_split(X_temp, y_temp, test_size=0.5, random_state=42)\n",
    "\n",
    "# Train a logistic regression model\n",
    "for C in [0.01, 0.1, 1, 10, 100]:\n",
    "    model = LogisticRegression(solver='liblinear', C=C, max_iter=1000, random_state=42)\n",
    "    model.fit(X_train, y_train)\n",
    "\n",
    "    y_pred = model.predict(X_val)\n",
    "    accuracy = round(accuracy_score(y_val, y_pred), 3)\n",
    "    print(f\"C={C}: {accuracy}\")"
   ]
  }
 ],
 "metadata": {
  "kernelspec": {
   "display_name": "Python 3",
   "language": "python",
   "name": "python3"
  },
  "language_info": {
   "codemirror_mode": {
    "name": "ipython",
    "version": 3
   },
   "file_extension": ".py",
   "mimetype": "text/x-python",
   "name": "python",
   "nbconvert_exporter": "python",
   "pygments_lexer": "ipython3",
   "version": "3.8.8"
  }
 },
 "nbformat": 4,
 "nbformat_minor": 5
}
